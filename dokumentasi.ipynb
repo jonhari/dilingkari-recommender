{
 "metadata": {
  "name": "",
  "signature": "sha256:a21dedb82cf42df008227ed8a7d455076b060ccce4c8264378833ded8ad15c0b"
 },
 "nbformat": 3,
 "nbformat_minor": 0,
 "worksheets": [
  {
   "cells": [
    {
     "cell_type": "code",
     "collapsed": false,
     "input": [
      "%load stem.py"
     ],
     "language": "python",
     "metadata": {},
     "outputs": [],
     "prompt_number": 1
    },
    {
     "cell_type": "code",
     "collapsed": false,
     "input": [
      "stemi.stem('diakah')"
     ],
     "language": "python",
     "metadata": {},
     "outputs": [
      {
       "metadata": {},
       "output_type": "pyout",
       "prompt_number": 71,
       "text": [
        "'dia'"
       ]
      }
     ],
     "prompt_number": 71
    },
    {
     "cell_type": "code",
     "collapsed": false,
     "input": [
      "import urllib"
     ],
     "language": "python",
     "metadata": {},
     "outputs": [],
     "prompt_number": 79
    },
    {
     "cell_type": "code",
     "collapsed": false,
     "input": [
      "url = \"http://dilingkari-1x.appspot.com/a\"\n",
      "url_params = urllib.urlencode({\"id\" : \"102354805749063623353\"})"
     ],
     "language": "python",
     "metadata": {},
     "outputs": [],
     "prompt_number": 80
    },
    {
     "cell_type": "code",
     "collapsed": false,
     "input": [
      "import urllib2"
     ],
     "language": "python",
     "metadata": {},
     "outputs": [],
     "prompt_number": 74
    },
    {
     "cell_type": "code",
     "collapsed": false,
     "input": [
      "req = urllib2.Request(url,url_params)"
     ],
     "language": "python",
     "metadata": {},
     "outputs": [],
     "prompt_number": 83
    },
    {
     "cell_type": "code",
     "collapsed": false,
     "input": [
      "response = urllib2.urlopen(req)"
     ],
     "language": "python",
     "metadata": {},
     "outputs": [],
     "prompt_number": 89
    },
    {
     "cell_type": "code",
     "collapsed": false,
     "input": [
      "response = response.read()"
     ],
     "language": "python",
     "metadata": {},
     "outputs": [],
     "prompt_number": 90
    },
    {
     "cell_type": "code",
     "collapsed": false,
     "input": [
      "import pprint"
     ],
     "language": "python",
     "metadata": {},
     "outputs": [],
     "prompt_number": 96
    },
    {
     "cell_type": "code",
     "collapsed": false,
     "input": [
      "import json"
     ],
     "language": "python",
     "metadata": {},
     "outputs": [],
     "prompt_number": 98
    },
    {
     "cell_type": "code",
     "collapsed": false,
     "input": [
      "page = json.loads(response)"
     ],
     "language": "python",
     "metadata": {},
     "outputs": [],
     "prompt_number": 100
    },
    {
     "cell_type": "code",
     "collapsed": false,
     "input": [
      "from HTMLParser import HTMLParser\n",
      "\n",
      "class MLStripper(HTMLParser):\n",
      "    def __init__(self):\n",
      "        self.reset()\n",
      "        self.fed = []\n",
      "    def handle_data(self, d):\n",
      "        self.fed.append(d)\n",
      "    def get_data(self):\n",
      "        return ''.join(self.fed)\n",
      "\n",
      "def strip_tags(html):\n",
      "    s = MLStripper()\n",
      "    s.feed(html)\n",
      "    return s.get_data()"
     ],
     "language": "python",
     "metadata": {},
     "outputs": [],
     "prompt_number": 115
    },
    {
     "cell_type": "code",
     "collapsed": false,
     "input": [
      "from stem import IndonesianStemmer\n",
      "import string"
     ],
     "language": "python",
     "metadata": {},
     "outputs": [],
     "prompt_number": 122
    },
    {
     "cell_type": "code",
     "collapsed": false,
     "input": [
      "def parseOutText(p):\n",
      "   \n",
      "    ### remove punctuation\n",
      "    text_string = p\n",
      "\n",
      "    ### split the text string into individual words, stem each word,\n",
      "    ### and append the stemmed word to words (make sure there's a single\n",
      "    ### space between each stemmed word)\n",
      "    stemmer = IndonesianStemmer()\n",
      "    words = ' '.join([stemmer.stem(word) for word in text_string.split()])\n",
      "    \n",
      "    return words"
     ],
     "language": "python",
     "metadata": {},
     "outputs": [],
     "prompt_number": 130
    },
    {
     "cell_type": "code",
     "collapsed": false,
     "input": [
      "for e in page['items']:\n",
      "    try:\n",
      "        print parseOutText(strip_tags(e['object']['content']))\n",
      "    except KeyError:\n",
      "        pass"
     ],
     "language": "python",
     "metadata": {},
     "outputs": [
      {
       "output_type": "stream",
       "stream": "stdout",
       "text": [
        "isi awal tahun dengan ajar bahasa mrogram Python di DepokD tengah banyak orang sedang liburan, sekumpul teman-tem berte dan semangat ajar bahasa mrogram Python.Nggak cuma dari Depok, yang hadir ada yang dari Bogor dan Tangerang.3 jam habis coba mantra-mantra eh salah, coba kode-kode, akhir bisa juga akluk bahasa ular tsb (logo dari bahasa mrogram Python itu ular, maka sering becandain itu bahasa ular).mater Kelas Python sedia di http://oo.or.id/pySiapa di antara teman-tem yang tarik ajar bahasa mrogram juga? :)\ufeff\n",
        "I joined the New Year party at central of Jakarta,with thousands of ople celebrate new year 2015!I have recorded these mostly with +Google Glass\u200b and thank you +Google+\u200b photos made me this Auto Awesome video!Selamat ikmat hibur ganti tahun yang a rekam dengan Google Glass, jadi semua teman-tem bisa ikmat persis apa yang a lihat dan rasa :)#throughglass\ufeff\n",
        "siap angkat Kelas Python Depok #2http://oo.or.id/pysemoga lancar semua! :)\ufeff\n",
        "Hello, I create an open source web with Google+ API for python, at http://di.lingkari.com(the source code link available at the bottom of the page).I got so many error reports on log about the six.py (from oauth2client).any other have same problem?codeFile /base/data/home/apps/s~dilingkari/1.381212596274643952/lib/oauth2client/util.py, line 135, in positional_wrapper return wrapped(*args, **kwargs) File /base/data/home/apps/s~dilingkari/1.381212596274643952/lib/googleapiclient/discovery.py, line 195, in build os.environ[REMOTE_ADDR]) File /base/data/home/apps/s~dilingkari/1.381212596274643952/lib/oauth2client/util.py, line 195, in _add_query_parameter parsed = list(urllib.parse.urlparse(url)) File /base/data/home/apps/s~dilingkari/1.381212596274643952/lib/six.py, line 92, in _get_ delattr(obj.__class__, self.name)AttributeError: urlparse/code\ufeff\n",
        "cara mudah jelasin apa itu A/B Testing ke cowok-cowokBaca deh artikel ini, dalam bbrp paragraph pasti udah langsung pada nyambung apa itu A/B Testing, masuk dengan contoh-contoh populer yang guna oleh usahaan-perusaha nama dalam evaluasi tren.Begitu selesa baca, pasti banyak yang pengen kerja sebaga Data Scientist di usaha ini deh :p\ufeff\n",
        "mau polling biar bisa mutusin kelas ajar mrogram bakal di Jakarta atau di Depok, nyata Draw?!pernah nyoba ngajarin orang tentang sesuatu yg reka belum pernah tau?menurut ajar lalu dia tulis (bu atau artikel) jauh lebih susah timbang duduk-bareng ajar langsung.hehe.. karena itu a buat kelas (free) untuk ajar teknologi, salah satu ajar mrograman.besok sabtu (3jan) mau buat lagi ah, kelas mrogram Python untuk Jakarta/Depok.yang daftar udah cukup banyak, nyata 50% minta Jkt, dan sisa minta Depok.hihi..ada yang mau ikut lagi? bantu ambah porsi polling :))https://plus.google.com/102354805749063623353/posts/9kcgUVVD8CZ\ufeff\n",
        "(resolusi?) usaha lewat batas yg selalu bayangiA selalu bayang nggak akan mampu empuh jarak 21KM (half marathon), ntah itu jalan atau lari.Mesk a bbrp kali lari sampa 10KM, rasa semua tenaga sudah habis jadi nggak akan sampa dua kali lipat jaraknya.Har ini, Happy New Year 2015 by the way, a mula mikir untuk napa nggak coba aja dengan usaha maksimal, jangan cuma bayangin bahwa bakal nggak bisa.Jad mula semalam, dengan siap yang matang, coba ecah rekor sendiri, sekaligus mau bukti bisa nggak sih empuh jarak 21KM.Akhir 1jam akhir 2014 dan 7jam tama di 2015, habis pake jalan kaki ngelilingin Jakarta Pusat, sambil ikmat hibur tahun baru!Semua titik yang a lewat catat oleh Aplikasi Mobile gpslogger dalam format GPX.Ya lepas mungkin ada salah hitung 10-20% karena kadang tidak dapat GPS, tetap gembira dan syukur bisa lewat batas bayang a sendiri!! :)Semoga begitu juga dengan temen-temen, dapat capa apa yang ingin di tahun ini! :)\ufeff\n",
        "Panggung Bank DKI isi koes plus.ehm, ini tahun 2015 kan?! :))#throughglass\ufeff\n",
        "throw the fireworks!#throughglasspersiap tahun baru Waktu Indonesia Barat..\ufeff\n",
        "Kembang Api (fireworks) udah nggak enti2!!#throughglass Happy New Year!\ufeff\n",
        "udah penuh di bunder HI :)bersiap sambut tahun baru, Waktu Indonesia Barat.#throughglass\ufeff\n",
        "yuk jalan cari moments di akhir 2014! :3\ufeff\n",
        "upload screenshot (dari iPhone) kontributor #IndonesiaOnly tgl30 ini ke Facebook trus hasil kenal (tag) 10 orang temen.. coba kalo upload ke Google+ bisa kenal apa orang ;)\ufeff\n",
        "umbuh rasa ingin tahu dan ajar teknologideng buat situs http://di.lingkari.com sebaga project open source, a harap banyak temen-temen dari Indonesia yg mau ajar dan diskusi tentang teknolog (salah satu tentang mrogram Python): https://plus.google.com/102354805749063623353/posts/9kcgUVVD8CZeh nyata urut lapor +Google Analytics (dalam foto lampir) nyata banyak unjung situs bukan dari Indonesia :|ayo tetap semangat, ajar dan bagi tentang teknolog :)\ufeff\n",
        "Gummy Lunch at 7LangitTutup tahun dengan yang manis? Iya dong. Di 7Langit siang ini ada giat seru susun display dari permen jelly warna-warni. Ada yang suka juga dengan permen jelly warna-warni? Sini mampir ke kantor kami!!\ufeff\n",
        "behind the scene open source project .lingkari.comeh maksud mau bahas backend dink, bukan behind the scene :pbegin gambar quota yang guna project http://di.lingkari.com udah hampir penuh nih quota gratis :)Ada yang tarik untuk eksplor project ini? nih lagi ada tawar (Free) Kelas Python untuk temen-temen di Jakarta/Depok.. klik sini ya https://plus.google.com/102354805749063623353/posts/9kcgUVVD8CZ\ufeff\n",
        "K\ufeff\n",
        "Open Source Project .lingkari.com as Study CaseMenindaklanjut sejum masu dari serta Kelas Python tentang apa contoh dari web yang bisa pelajar kodenya, a buat sebuah project open source (berlisensi MIT), tentang sebuah web http://di.lingkari.com yang kode bisa akses di http://github.com/oonid/dilingkari/Fitur dari website ini antara lain:+ Menyimp dan mengo lebih dari 100 data guna Google+ yang aktif+ Mengguna basis data NoSQL di Google Datastore+ Update basis data guna secara jadwal guna Google+ API+ Menampil data baru dengan UI yang guna Twitter Bootstrap (sehingga tampil responsive jika akses dengan mobile device)+ Melaku kanisme caching dengan Memcache agar halam web dapat lebih cepat saat akses+ Di-develop dengan Python, -deploy secara free di Google Cloud Platform.+ dan masih banyak lagi :))Tertarik untuk diskusi dan pelajar teknologinya? nih lagi ada tawar Kelas Python di https://plus.google.com/102354805749063623353/posts/9kcgUVVD8CZ\ufeff\n",
        "ada yg tarik ikut kelas Python 3 Jan 2015?Halo!A sedang rencana untuk ada Kelas Python ( http://oo.or.id/py ) nanti tanggal 3 Jan 2015, kalo memang banyak yang mau ikutan.Kelas kalo nggak di Jakarta (menteng) atau di Depok (margonda raya).Nah! seanda ka atau teman tarik ikutan, sila email ke oon at oo.or.id dengan enal diri, mudi kasih tau lebih tarik di Jakarta/Depok?Kalo emang kelas jadi, tentu ka akan dapat email undang ikutan.ps: bagi yang belum pernah tau kelas Python, bisa unjung alamat web http://oo.or.id/py untuk ecek apa aja yang pelajari.info dari newsletter Kelas Teknologi: http://eepurl.com/banEnj\ufeff\n",
        "6 jenazah korban sawat AirAsia QZ8501 sudah temukan. Tiga jenazah sedang evakuasi sama puing-puing sawat ke Tanjung Pandan, Kalimant Tengah. Tiga jenazah lagi belum dapat evakuasi karena cuaca yang makin buruk. #BreakingNews #PrayForAirAsia #QZ8501 \ufeff\n"
       ]
      }
     ],
     "prompt_number": 131
    },
    {
     "cell_type": "code",
     "collapsed": false,
     "input": [],
     "language": "python",
     "metadata": {},
     "outputs": []
    }
   ],
   "metadata": {}
  }
 ]
}